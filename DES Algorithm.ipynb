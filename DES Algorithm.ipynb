{
 "cells": [
  {
   "cell_type": "code",
   "execution_count": 263,
   "metadata": {},
   "outputs": [],
   "source": [
    "def hex2bin(s):\n",
    "    m =  {'0' : \"0000\",\n",
    "          '1' : \"0001\",\n",
    "          '2' : \"0010\",\n",
    "          '3' : \"0011\",\n",
    "          '4' : \"0100\",\n",
    "          '5' : \"0101\",\n",
    "          '6' : \"0110\",\n",
    "          '7' : \"0111\",\n",
    "          '8' : \"1000\",\n",
    "          '9' : \"1001\",\n",
    "          'A' : \"1010\",\n",
    "          'B' : \"1011\",\n",
    "          'C' : \"1100\",\n",
    "          'D' : \"1101\",\n",
    "          'E' : \"1110\",\n",
    "          'F' : \"1111\" }\n",
    "    t = \"\"\n",
    "    for i in range(len(s)):\n",
    "        t = t+ m[s[i]]\n",
    "    return(t)\n",
    "\n",
    "# Binary to hexadecimal conversion\n",
    "def bin2hex(s):\n",
    "    mp = {\"0000\" : '0',\n",
    "          \"0001\" : '1',\n",
    "          \"0010\" : '2',\n",
    "          \"0011\" : '3',\n",
    "          \"0100\" : '4',\n",
    "          \"0101\" : '5',\n",
    "          \"0110\" : '6',\n",
    "          \"0111\" : '7',\n",
    "          \"1000\" : '8',\n",
    "          \"1001\" : '9',\n",
    "          \"1010\" : 'A',\n",
    "          \"1011\" : 'B',\n",
    "          \"1100\" : 'C',\n",
    "          \"1101\" : 'D',\n",
    "          \"1110\" : 'E',\n",
    "          \"1111\" : 'F' }\n",
    "    hex = \"\"\n",
    "    for i in range(0,len(s),4):\n",
    "        ch = \"\"\n",
    "        ch = ch + s[i]+s[i+1]+s[i+2]+s[i+3]\n",
    "        hex = hex + mp[ch]\n",
    "         \n",
    "    return hex\n",
    "\n",
    "def bin2dec(binary):\n",
    "       \n",
    "    binary1 = binary\n",
    "    decimal, i, n = 0, 0, 0\n",
    "    while(binary != 0):\n",
    "        dec = binary % 10\n",
    "        decimal = decimal + dec * pow(2, i)\n",
    "        binary = binary//10\n",
    "        i += 1\n",
    "    return decimal\n",
    "\n",
    "def dec2bin(num):\n",
    "    res = bin(num).replace(\"0b\", \"\")\n",
    "    if(len(res)%4 != 0):\n",
    "        div = len(res) / 4\n",
    "        div = int(div)\n",
    "        counter =(4 * (div + 1)) - len(res)\n",
    "        for i in range(0, counter):\n",
    "            res = '0' + res\n",
    "    return res\n"
   ]
  },
  {
   "cell_type": "code",
   "execution_count": 264,
   "metadata": {},
   "outputs": [],
   "source": [
    "def permute(k,m):\n",
    "    p = \"\"\n",
    "    for i in range(len(m)):\n",
    "        p = p + k[m[i]-1] \n",
    "    return(p)"
   ]
  },
  {
   "cell_type": "code",
   "execution_count": 265,
   "metadata": {},
   "outputs": [],
   "source": [
    "def left_shift(s,n):\n",
    "    for j in range(0,n):        \n",
    "        t=\"\"\n",
    "        for i in range(0,len(s)-1):\n",
    "            t=t+s[i+1]\n",
    "        t+=s[0]\n",
    "        s=t\n",
    "    return(t)"
   ]
  },
  {
   "cell_type": "code",
   "execution_count": 266,
   "metadata": {},
   "outputs": [],
   "source": [
    "def key_expansion(key): \n",
    "    key = hex2bin(key)  # To change the key in binary\n",
    "    keyp = [57, 49, 41, 33, 25, 17, 9,\n",
    "        1, 58, 50, 42, 34, 26, 18,\n",
    "        10, 2, 59, 51, 43, 35, 27,\n",
    "        19, 11, 3, 60, 52, 44, 36,\n",
    "        63, 55, 47, 39, 31, 23, 15,\n",
    "        7, 62, 54, 46, 38, 30, 22,\n",
    "        14, 6, 61, 53, 45, 37, 29,\n",
    "        21, 13, 5, 28, 20, 12, 4 ]\n",
    "    key_comp = [14, 17, 11, 24, 1, 5,\n",
    "            3, 28, 15, 6, 21, 10,\n",
    "            23, 19, 12, 4, 26, 8,\n",
    "            16, 7, 27, 20, 13, 2,\n",
    "            41, 52, 31, 37, 47, 55,\n",
    "            30, 40, 51, 45, 33, 48,\n",
    "            44, 49, 39, 56, 34, 53,\n",
    "            46, 42, 50, 36, 29, 32 ]\n",
    "    key = permute(key, keyp)\n",
    "    left = key[0:28]\n",
    "    right = key[28:56]\n",
    "    lshift = [1, 1, 2, 2, 2, 2, 2, 2, 1, 2, 2, 2, 2, 2, 2, 1 ]\n",
    "    final_key=[]\n",
    "    for i in range(0,16):\n",
    "        left = left_shift(left, lshift[i])\n",
    "        right = left_shift(right, lshift[i])\n",
    "        k= permute(left+right, key_comp)\n",
    "        final_key.append(k)\n",
    "    return final_key\n",
    "    "
   ]
  },
  {
   "cell_type": "code",
   "execution_count": 267,
   "metadata": {},
   "outputs": [],
   "source": [
    "def xor(a, b):\n",
    "    ans = \"\"\n",
    "    for i in range(len(a)):\n",
    "        if a[i] == b[i]:\n",
    "            ans = ans + \"0\"\n",
    "        else:\n",
    "            ans = ans + \"1\"\n",
    "    return ans"
   ]
  },
  {
   "cell_type": "code",
   "execution_count": 268,
   "metadata": {},
   "outputs": [],
   "source": [
    "# S-box Table\n",
    "sbox =  [[[14, 4, 13, 1, 2, 15, 11, 8, 3, 10, 6, 12, 5, 9, 0, 7],\n",
    "          [ 0, 15, 7, 4, 14, 2, 13, 1, 10, 6, 12, 11, 9, 5, 3, 8],\n",
    "          [ 4, 1, 14, 8, 13, 6, 2, 11, 15, 12, 9, 7, 3, 10, 5, 0],\n",
    "          [15, 12, 8, 2, 4, 9, 1, 7, 5, 11, 3, 14, 10, 0, 6, 13 ]],\n",
    "            \n",
    "         [[15, 1, 8, 14, 6, 11, 3, 4, 9, 7, 2, 13, 12, 0, 5, 10],\n",
    "            [3, 13, 4, 7, 15, 2, 8, 14, 12, 0, 1, 10, 6, 9, 11, 5],\n",
    "            [0, 14, 7, 11, 10, 4, 13, 1, 5, 8, 12, 6, 9, 3, 2, 15],\n",
    "           [13, 8, 10, 1, 3, 15, 4, 2, 11, 6, 7, 12, 0, 5, 14, 9 ]],\n",
    "   \n",
    "         [ [10, 0, 9, 14, 6, 3, 15, 5, 1, 13, 12, 7, 11, 4, 2, 8],\n",
    "           [13, 7, 0, 9, 3, 4, 6, 10, 2, 8, 5, 14, 12, 11, 15, 1],\n",
    "           [13, 6, 4, 9, 8, 15, 3, 0, 11, 1, 2, 12, 5, 10, 14, 7],\n",
    "            [1, 10, 13, 0, 6, 9, 8, 7, 4, 15, 14, 3, 11, 5, 2, 12 ]],\n",
    "       \n",
    "          [ [7, 13, 14, 3, 0, 6, 9, 10, 1, 2, 8, 5, 11, 12, 4, 15],\n",
    "           [13, 8, 11, 5, 6, 15, 0, 3, 4, 7, 2, 12, 1, 10, 14, 9],\n",
    "           [10, 6, 9, 0, 12, 11, 7, 13, 15, 1, 3, 14, 5, 2, 8, 4],\n",
    "            [3, 15, 0, 6, 10, 1, 13, 8, 9, 4, 5, 11, 12, 7, 2, 14] ],\n",
    "        \n",
    "          [ [2, 12, 4, 1, 7, 10, 11, 6, 8, 5, 3, 15, 13, 0, 14, 9],\n",
    "           [14, 11, 2, 12, 4, 7, 13, 1, 5, 0, 15, 10, 3, 9, 8, 6],\n",
    "            [4, 2, 1, 11, 10, 13, 7, 8, 15, 9, 12, 5, 6, 3, 0, 14],\n",
    "           [11, 8, 12, 7, 1, 14, 2, 13, 6, 15, 0, 9, 10, 4, 5, 3 ]],\n",
    "       \n",
    "         [ [12, 1, 10, 15, 9, 2, 6, 8, 0, 13, 3, 4, 14, 7, 5, 11],\n",
    "           [10, 15, 4, 2, 7, 12, 9, 5, 6, 1, 13, 14, 0, 11, 3, 8],\n",
    "            [9, 14, 15, 5, 2, 8, 12, 3, 7, 0, 4, 10, 1, 13, 11, 6],\n",
    "            [4, 3, 2, 12, 9, 5, 15, 10, 11, 14, 1, 7, 6, 0, 8, 13] ],\n",
    "         \n",
    "          [ [4, 11, 2, 14, 15, 0, 8, 13, 3, 12, 9, 7, 5, 10, 6, 1],\n",
    "           [13, 0, 11, 7, 4, 9, 1, 10, 14, 3, 5, 12, 2, 15, 8, 6],\n",
    "            [1, 4, 11, 13, 12, 3, 7, 14, 10, 15, 6, 8, 0, 5, 9, 2],\n",
    "            [6, 11, 13, 8, 1, 4, 10, 7, 9, 5, 0, 15, 14, 2, 3, 12] ],\n",
    "        \n",
    "         [ [13, 2, 8, 4, 6, 15, 11, 1, 10, 9, 3, 14, 5, 0, 12, 7],\n",
    "            [1, 15, 13, 8, 10, 3, 7, 4, 12, 5, 6, 11, 0, 14, 9, 2],\n",
    "            [7, 11, 4, 1, 9, 12, 14, 2, 0, 6, 10, 13, 15, 3, 5, 8],\n",
    "            [2, 1, 14, 7, 4, 10, 8, 13, 15, 12, 9, 0, 3, 5, 6, 11] ] ]"
   ]
  },
  {
   "cell_type": "code",
   "execution_count": 269,
   "metadata": {},
   "outputs": [],
   "source": [
    "def f(y , key):\n",
    "    E = [32, 1 , 2 , 3 , 4 , 5 , 4 , 5,\n",
    "         6 , 7 , 8 , 9 , 8 , 9 , 10, 11,\n",
    "         12, 13, 12, 13, 14, 15, 16, 17,\n",
    "         16, 17, 18, 19, 20, 21, 20, 21,\n",
    "         22, 23, 24, 25, 24, 25, 26, 27,\n",
    "         28, 29, 28, 29, 30, 31, 32, 1 ]\n",
    "    x = permute(y,E)\n",
    "    x = xor(x, key)\n",
    "    t = \"\"\n",
    "    for i in range(0,8):\n",
    "        row = bin2dec(int(x[6*i]+x[6*i+5]))\n",
    "        col = bin2dec(int(x[6*i+1]+x[6*i+2]+x[6*i+3]+x[6*i+4]))\n",
    "        t=t+dec2bin(sbox[i][row][col])\n",
    "    per = [ 16,  7, 20, 21,\n",
    "            29, 12, 28, 17,\n",
    "             1, 15, 23, 26,\n",
    "             5, 18, 31, 10,\n",
    "             2,  8, 24, 14,\n",
    "            32, 27,  3,  9,\n",
    "            19, 13, 30,  6,\n",
    "            22, 11,  4, 25 ]\n",
    "    t=permute(t,per)\n",
    "    return(t)"
   ]
  },
  {
   "cell_type": "code",
   "execution_count": 270,
   "metadata": {},
   "outputs": [],
   "source": [
    "IP =   [58, 50, 42, 34, 26, 18, 10, 2,\n",
    "        60, 52, 44, 36, 28, 20, 12, 4,\n",
    "        62, 54, 46, 38, 30, 22, 14, 6,\n",
    "        64, 56, 48, 40, 32, 24, 16, 8,\n",
    "        57, 49, 41, 33, 25, 17, 9, 1,\n",
    "        59, 51, 43, 35, 27, 19, 11, 3,\n",
    "        61, 53, 45, 37, 29, 21, 13, 5,\n",
    "        63, 55, 47, 39, 31, 23, 15, 7]\n",
    "Inv_IP =      [40, 8, 48, 16, 56, 24, 64, 32,\n",
    "               39, 7, 47, 15, 55, 23, 63, 31,\n",
    "               38, 6, 46, 14, 54, 22, 62, 30,\n",
    "               37, 5, 45, 13, 53, 21, 61, 29,\n",
    "               36, 4, 44, 12, 52, 20, 60, 28,\n",
    "               35, 3, 43, 11, 51, 19, 59, 27,\n",
    "               34, 2, 42, 10, 50, 18, 58, 26,\n",
    "               33, 1, 41,  9, 49, 17, 57, 25 ]"
   ]
  },
  {
   "cell_type": "code",
   "execution_count": 271,
   "metadata": {},
   "outputs": [],
   "source": [
    "def encrypt(pt,key):\n",
    "    key = key_expansion(key)\n",
    "    pt = permute(pt, IP)\n",
    "    #print('after ip pt=',bin2hex(pt))\n",
    "    L = pt[0:32]\n",
    "    R = pt[32:64]\n",
    "    for i in range(0,16):\n",
    "        L1 = R\n",
    "        R1 = xor(L , f(R,key[i]) )\n",
    "        L=L1\n",
    "        R=R1\n",
    "       # print(\"after round\",i+1, bin2hex(L),\" \",bin2hex(R), bin2hex(key[i]))\n",
    "    ct = permute(R+L,Inv_IP)\n",
    "    return(ct)"
   ]
  },
  {
   "cell_type": "code",
   "execution_count": 272,
   "metadata": {},
   "outputs": [
    {
     "name": "stdout",
     "output_type": "stream",
     "text": [
      "Enter the plaintext: Hey there I am using Whatsapp.\n"
     ]
    }
   ],
   "source": [
    "#pt = input(\"Enter the plaintext block in hexadecimal: \")\n",
    "#key = input(\"Enter the key in hexadecimal: \")\n",
    "#key\n",
    "#pt = \"123456ABCD132536\"\n",
    "#key = \"AABB09182736CCDD\"\n",
    "#pt = \"0123456789ABCDEF\"\n",
    "#key = \"133457799BBCDFF1\"\n",
    "#pt = hex2bin(pt)\n",
    "s = input(\"Enter the plaintext: \")\n",
    "s = s+(-len(s)%8)*\" \"\n",
    "pt= \"\".join([dec2bin(ord(c)) for c in s])\n",
    "key =\"0E329232EA6D0D73\"\n",
    "#print(bin2hex(pt))"
   ]
  },
  {
   "cell_type": "code",
   "execution_count": 273,
   "metadata": {},
   "outputs": [
    {
     "name": "stdout",
     "output_type": "stream",
     "text": [
      "The ciphertext in hexadecimal is:\n",
      "7AC38FAB749C0D75FE3A7A55D03312217C7670D48F86F204589318A4A2836949\n"
     ]
    }
   ],
   "source": [
    "ct=\"\"\n",
    "for i in range(0,len(pt)//64):\n",
    "    ct = ct+ bin2hex(encrypt(pt[64*i:64*(i+1)],key))\n",
    "print(\"The ciphertext in hexadecimal is:\")\n",
    "print(ct)"
   ]
  },
  {
   "cell_type": "code",
   "execution_count": 274,
   "metadata": {},
   "outputs": [],
   "source": [
    "def decrypt(ct,key):\n",
    "    ct = hex2bin(ct)\n",
    "    key = key_expansion(key)\n",
    "    ct = permute(ct,IP)\n",
    "    R = ct[0:32]\n",
    "    L = ct[32:64]\n",
    "    for i in range(0,16):\n",
    "        R1 = L\n",
    "        L1 = xor(R , f(L,key[15-i]) )\n",
    "        L=L1\n",
    "        R=R1\n",
    "        #print(\"after round\",i+1, bin2hex(L),\" \",bin2hex(R), bin2hex(key[i]))\n",
    "    pt = permute(L+R,Inv_IP)\n",
    "    return(pt)\n",
    "    "
   ]
  },
  {
   "cell_type": "code",
   "execution_count": 275,
   "metadata": {},
   "outputs": [],
   "source": [
    "def letter(pt):\n",
    "    s =\"\"\n",
    "    for i in range(0,len(pt)//8):\n",
    "        ch=pt[8*i:8*i+8]\n",
    "        s=s+chr(int(ch,2))\n",
    "    return(s)"
   ]
  },
  {
   "cell_type": "code",
   "execution_count": 276,
   "metadata": {
    "scrolled": true
   },
   "outputs": [
    {
     "name": "stdout",
     "output_type": "stream",
     "text": [
      "Corresponding plaintext is: \n",
      "Hey there I am using Whatsapp.  \n"
     ]
    }
   ],
   "source": [
    "#ct = input(\"enter the ciphertext in hexadecimal: \")\n",
    "pt =\"\"\n",
    "for i in range(0,len(ct)//16):\n",
    "    c = ct[16*i:16*(i+1)]\n",
    "    pt = pt + letter(decrypt(c,key))\n",
    "print(\"Corresponding plaintext is: \")\n",
    "print(pt)\n",
    "\n",
    "#pt=\"\"\n",
    "#for i in range(0,len(ct)//16):\n",
    "#    c = ct[16*i:16*(i+1)]\n",
    "#    pt = pt + bin2hex(decrypt(c,key))\n",
    "#print('Corresponding Plaintext in hexadecimal is: ')\n",
    "#print(pt)"
   ]
  },
  {
   "cell_type": "code",
   "execution_count": null,
   "metadata": {},
   "outputs": [],
   "source": []
  }
 ],
 "metadata": {
  "kernelspec": {
   "display_name": "Python 3",
   "language": "python",
   "name": "python3"
  },
  "language_info": {
   "codemirror_mode": {
    "name": "ipython",
    "version": 3
   },
   "file_extension": ".py",
   "mimetype": "text/x-python",
   "name": "python",
   "nbconvert_exporter": "python",
   "pygments_lexer": "ipython3",
   "version": "3.8.5"
  }
 },
 "nbformat": 4,
 "nbformat_minor": 4
}
